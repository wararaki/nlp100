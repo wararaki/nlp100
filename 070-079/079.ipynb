{
  "nbformat": 4,
  "nbformat_minor": 0,
  "metadata": {
    "colab": {
      "name": "Untitled0.ipynb",
      "provenance": [],
      "collapsed_sections": []
    },
    "kernelspec": {
      "name": "python3",
      "display_name": "Python 3"
    },
    "accelerator": "GPU"
  },
  "cells": [
    {
      "cell_type": "code",
      "metadata": {
        "id": "zACfA14MssbK"
      },
      "source": [
        "import pickle\n",
        "\n",
        "from sklearn.metrics import accuracy_score\n",
        "import torch\n",
        "from tqdm import tqdm"
      ],
      "execution_count": null,
      "outputs": []
    },
    {
      "cell_type": "code",
      "metadata": {
        "id": "IDIW95SOtEkW"
      },
      "source": [
        "def load(filename: str) -> tuple:\n",
        "    with open(filename, 'rb') as f:\n",
        "        (X, y) = pickle.load(f)\n",
        "    X = torch.from_numpy(X.astype(float)).float().cuda()\n",
        "    y = torch.from_numpy(y.astype(float)).long().cuda()\n",
        "    return (X, y)"
      ],
      "execution_count": null,
      "outputs": []
    },
    {
      "cell_type": "code",
      "metadata": {
        "colab": {
          "base_uri": "https://localhost:8080/"
        },
        "id": "QXSSGJ6qtK-J",
        "outputId": "02fc71b3-715a-4b5b-eb7b-5914fca255b3"
      },
      "source": [
        "torch.cuda.is_available()"
      ],
      "execution_count": null,
      "outputs": []
    },
    {
      "cell_type": "code",
      "metadata": {
        "id": "s3-oaJc1tZvP"
      },
      "source": [
        "filename = 'valid.pkl'\n",
        "(X_train, y_train) = load(filename)"
      ],
      "execution_count": null,
      "outputs": []
    },
    {
      "cell_type": "code",
      "metadata": {
        "id": "afoHGwHNvo9g"
      },
      "source": [
        "filename = 'test.pkl'\n",
        "(X_valid, y_valid) = load(filename)"
      ],
      "execution_count": null,
      "outputs": []
    },
    {
      "cell_type": "code",
      "metadata": {
        "id": "qSr1Osl7t60z"
      },
      "source": [
        "class NNModel(torch.nn.Module):\n",
        "    def __init__(self, n_input: int, n_output: int, n_hidden: int=256):\n",
        "        super(NNModel, self).__init__()\n",
        "        self.linear_1 = torch.nn.Linear(n_input, n_hidden)\n",
        "        self.linear_2 = torch.nn.Linear(n_hidden, n_hidden)\n",
        "        self.linear_3 = torch.nn.Linear(n_hidden, n_output)\n",
        "    \n",
        "    def forward(self, x: torch.Tensor) -> float:\n",
        "        x = self.linear_1(x)\n",
        "        x = self.linear_2(x)\n",
        "        x = self.linear_3(x)\n",
        "        return torch.softmax(x, dim=1)"
      ],
      "execution_count": null,
      "outputs": []
    },
    {
      "cell_type": "code",
      "metadata": {
        "id": "FxpPxMast63Y"
      },
      "source": [
        "model = NNModel(300, 4).cuda()\n",
        "criterion = torch.nn.CrossEntropyLoss()\n",
        "optimizer = torch.optim.Adam(model.parameters(), lr=0.01)"
      ],
      "execution_count": null,
      "outputs": []
    },
    {
      "cell_type": "code",
      "metadata": {
        "colab": {
          "base_uri": "https://localhost:8080/"
        },
        "id": "f20nGvOet7Bl",
        "outputId": "05d61f04-6203-4e5b-f2d1-bf59605a2063"
      },
      "source": [
        "model.train()\n",
        "train_losses = []\n",
        "valid_losses = []\n",
        "train_accuracies = []\n",
        "valid_accuracies = []\n",
        "\n",
        "epochs = 100\n",
        "batch_size = 256\n",
        "for epoch in tqdm(range(1, epochs+1)):\n",
        "    model.train()\n",
        "    for i in range(0, X_train.shape[0], batch_size):\n",
        "        x = X_train[i:i+batch_size]\n",
        "        y = y_train[i:i+batch_size]\n",
        "        optimizer.zero_grad()\n",
        "        y_pred = model(x)\n",
        "        loss = criterion(y_pred, y)\n",
        "        loss.backward()\n",
        "        optimizer.step()\n",
        "    model.eval()\n",
        "    with torch.no_grad():\n",
        "        y_pred = model(X_train)\n",
        "        loss = criterion(y_pred, y_train)\n",
        "        accuracy = (y_pred.argmax(dim=1) == y_train).sum().item()/y_train.shape[0]\n",
        "        train_losses.append(loss.item())\n",
        "        train_accuracies.append(accuracy)\n",
        "    \n",
        "    with torch.no_grad():\n",
        "        y_pred = model(X_valid)\n",
        "        loss = criterion(y_pred, y_valid)\n",
        "        accuracy = (y_pred.argmax(dim=1) == y_valid).sum().item()/y_valid.shape[0]\n",
        "        valid_losses.append(loss.item())\n",
        "        valid_accuracies.append(accuracy)\n",
        "    \n",
        "    # torch.save({\n",
        "    #     'epoch': epoch,\n",
        "    #     'model_state_dict': model.state_dict(),\n",
        "    #     'optimizer_state_dict': optimizer.state_dict(),\n",
        "    #     'loss': loss\n",
        "    # }, f'models/model_{epoch}.pkl')"
      ],
      "execution_count": null,
      "outputs": []
    },
    {
      "cell_type": "code",
      "metadata": {
        "id": "FD3oZXbut7Ea"
      },
      "source": [
        "import matplotlib.pyplot as plt"
      ],
      "execution_count": null,
      "outputs": []
    },
    {
      "cell_type": "code",
      "metadata": {
        "colab": {
          "base_uri": "https://localhost:8080/",
          "height": 265
        },
        "id": "OHdOkefvt7HT",
        "outputId": "ac4f9019-1dbd-423e-a4ac-27d6ed9a382b"
      },
      "source": [
        "fix, ax = plt.subplots()\n",
        "ax.plot(list(range(1, epochs+1)), train_accuracies, label='train_accuracy')\n",
        "ax.plot(list(range(1, epochs+1)), valid_accuracies, label='valid_accuracy')\n",
        "plt.show()"
      ],
      "execution_count": null,
      "outputs": []
    },
    {
      "cell_type": "code",
      "metadata": {
        "colab": {
          "base_uri": "https://localhost:8080/",
          "height": 265
        },
        "id": "Xgzzt4G3t7JG",
        "outputId": "07fe04bd-4ecb-4bc6-d1c9-1aaaf8346961"
      },
      "source": [
        "fix, ax = plt.subplots()\n",
        "ax.plot(list(range(1, epochs+1)), train_losses, label='train_loss')\n",
        "ax.plot(list(range(1, epochs+1)), valid_losses, label='valid_loss')\n",
        "plt.show()"
      ],
      "execution_count": null,
      "outputs": []
    },
    {
      "cell_type": "code",
      "metadata": {
        "id": "63VSnxKY0yMF"
      },
      "source": [],
      "execution_count": null,
      "outputs": []
    }
  ]
}