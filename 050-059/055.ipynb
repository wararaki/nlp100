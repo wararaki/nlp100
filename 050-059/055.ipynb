{
 "metadata": {
  "language_info": {
   "codemirror_mode": {
    "name": "ipython",
    "version": 3
   },
   "file_extension": ".py",
   "mimetype": "text/x-python",
   "name": "python",
   "nbconvert_exporter": "python",
   "pygments_lexer": "ipython3",
   "version": "3.8.5-final"
  },
  "orig_nbformat": 2,
  "kernelspec": {
   "name": "python37064bit370pyenva920ceca4f404267af438e20406c446b",
   "display_name": "Python 3.7.0 64-bit ('3.7.0': pyenv)",
   "language": "python"
  }
 },
 "nbformat": 4,
 "nbformat_minor": 2,
 "cells": [
  {
   "cell_type": "code",
   "execution_count": 9,
   "metadata": {},
   "outputs": [],
   "source": [
    "import joblib\n",
    "import pandas as pd\n",
    "from scipy.sparse import load_npz\n",
    "from sklearn.metrics import confusion_matrix"
   ]
  },
  {
   "cell_type": "code",
   "execution_count": 3,
   "metadata": {},
   "outputs": [],
   "source": [
    "X_train = load_npz('data/train.feature.txt.npz')\n",
    "train_df = pd.read_csv('data/train.txt', sep='\\t')\n",
    "y_train = train_df.category"
   ]
  },
  {
   "cell_type": "code",
   "execution_count": 4,
   "metadata": {},
   "outputs": [],
   "source": [
    "X_test = load_npz('data/test.feature.txt.npz')\n",
    "test_df = pd.read_csv('data/test.txt', sep='\\t')\n",
    "y_test = test_df.category"
   ]
  },
  {
   "cell_type": "code",
   "execution_count": 5,
   "metadata": {},
   "outputs": [],
   "source": [
    "model = joblib.load('model.pkl')"
   ]
  },
  {
   "cell_type": "code",
   "execution_count": 10,
   "metadata": {},
   "outputs": [],
   "source": [
    "def show_confusion_matrix(X, y):\n",
    "    y_pred = model.predict(X)\n",
    "    print(confusion_matrix(y_pred, y))"
   ]
  },
  {
   "cell_type": "code",
   "execution_count": 11,
   "metadata": {},
   "outputs": [
    {
     "output_type": "stream",
     "name": "stdout",
     "text": [
      "[[4406   87   83  181]\n [  97 4137  117  105]\n [   3    0  499    1]\n [  32    4    2  918]]\n"
     ]
    }
   ],
   "source": [
    "show_confusion_matrix(X_train, y_train)"
   ]
  },
  {
   "cell_type": "code",
   "execution_count": 12,
   "metadata": {},
   "outputs": [
    {
     "output_type": "stream",
     "name": "stdout",
     "text": [
      "[[518  17  21  41]\n [ 23 502  22  27]\n [  1   0  45   1]\n [ 16   3   2  95]]\n"
     ]
    }
   ],
   "source": [
    "show_confusion_matrix(X_test, y_test)"
   ]
  },
  {
   "cell_type": "code",
   "execution_count": null,
   "metadata": {},
   "outputs": [],
   "source": []
  }
 ]
}