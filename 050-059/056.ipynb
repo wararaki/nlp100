{
 "metadata": {
  "language_info": {
   "codemirror_mode": {
    "name": "ipython",
    "version": 3
   },
   "file_extension": ".py",
   "mimetype": "text/x-python",
   "name": "python",
   "nbconvert_exporter": "python",
   "pygments_lexer": "ipython3",
   "version": "3.8.5-final"
  },
  "orig_nbformat": 2,
  "kernelspec": {
   "name": "python37064bit370pyenva920ceca4f404267af438e20406c446b",
   "display_name": "Python 3.7.0 64-bit ('3.7.0': pyenv)",
   "language": "python"
  }
 },
 "nbformat": 4,
 "nbformat_minor": 2,
 "cells": [
  {
   "cell_type": "code",
   "execution_count": 11,
   "metadata": {},
   "outputs": [],
   "source": [
    "import joblib\n",
    "import numpy as np\n",
    "import pandas as pd\n",
    "from scipy.sparse import load_npz\n",
    "from sklearn.metrics import confusion_matrix"
   ]
  },
  {
   "cell_type": "code",
   "execution_count": 2,
   "metadata": {},
   "outputs": [],
   "source": [
    "X_test = load_npz('data/test.feature.txt.npz')\n",
    "test_df = pd.read_csv('data/test.txt', sep='\\t')\n",
    "y_test = test_df.category"
   ]
  },
  {
   "cell_type": "code",
   "execution_count": 3,
   "metadata": {},
   "outputs": [],
   "source": [
    "model = joblib.load('model.pkl')"
   ]
  },
  {
   "cell_type": "code",
   "execution_count": 33,
   "metadata": {},
   "outputs": [],
   "source": [
    "\n",
    "def show(X, y):\n",
    "    y_pred = model.predict(X)\n",
    "    mat = confusion_matrix(y_pred, y)\n",
    "    # print(mat)\n",
    "\n",
    "    precision = (np.diag(mat) / mat.sum(1)).mean()\n",
    "    recall = (np.diag(mat) / mat.sum(0)).mean()\n",
    "    f1 = 2*precision*recall / (precision + recall)\n",
    "    \n",
    "    print(f'precision: {precision}')\n",
    "    print(f'recall   : {recall}')\n",
    "    print(f'f1 score : {f1}')"
   ]
  },
  {
   "cell_type": "code",
   "execution_count": 34,
   "metadata": {},
   "outputs": [
    {
     "output_type": "stream",
     "name": "stdout",
     "text": [
      "precision: 0.8796621193686566\nrecall   : 0.7423173821560239\nf1 score : 0.8051747645611351\n"
     ]
    }
   ],
   "source": [
    "show(X_test, y_test)"
   ]
  },
  {
   "cell_type": "code",
   "execution_count": null,
   "metadata": {},
   "outputs": [],
   "source": []
  }
 ]
}