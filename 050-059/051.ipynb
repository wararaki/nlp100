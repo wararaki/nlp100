{
 "metadata": {
  "language_info": {
   "codemirror_mode": {
    "name": "ipython",
    "version": 3
   },
   "file_extension": ".py",
   "mimetype": "text/x-python",
   "name": "python",
   "nbconvert_exporter": "python",
   "pygments_lexer": "ipython3",
   "version": "3.8.5-final"
  },
  "orig_nbformat": 2,
  "kernelspec": {
   "name": "python37064bit370pyenva920ceca4f404267af438e20406c446b",
   "display_name": "Python 3.7.0 64-bit ('3.7.0': pyenv)",
   "language": "python"
  }
 },
 "nbformat": 4,
 "nbformat_minor": 2,
 "cells": [
  {
   "cell_type": "code",
   "execution_count": 26,
   "metadata": {},
   "outputs": [],
   "source": [
    "import pandas as pd\n",
    "from scipy.sparse import hstack, save_npz, csr_matrix\n",
    "from sklearn.preprocessing import OneHotEncoder\n",
    "from sklearn.feature_extraction.text import TfidfVectorizer"
   ]
  },
  {
   "cell_type": "code",
   "execution_count": 2,
   "metadata": {},
   "outputs": [
    {
     "output_type": "execute_result",
     "data": {
      "text/plain": [
       "(10672, 8)"
      ]
     },
     "metadata": {},
     "execution_count": 2
    }
   ],
   "source": [
    "train_df = pd.read_csv('data/train.txt', sep='\\t')\n",
    "train_df.shape"
   ]
  },
  {
   "cell_type": "code",
   "execution_count": 5,
   "metadata": {},
   "outputs": [
    {
     "output_type": "execute_result",
     "data": {
      "text/plain": [
       "       id                                              title  \\\n",
       "0  289974  Draghi Unites Euro Bulls With Bears Watching $...   \n",
       "1  170077  A Guide To Spring Gardening, For Allergy-Suffe...   \n",
       "2  381569  By Odin's beard: Marvel creates a storm of con...   \n",
       "\n",
       "                                                 url        publisher  \\\n",
       "0  http://www.businessweek.com/news/2014-06-16/dr...     Businessweek   \n",
       "1  http://www.huffingtonpost.com/2014/04/26/garde...  Huffington Post   \n",
       "2  http://www.dailymail.co.uk/news/article-269326...       Daily Mail   \n",
       "\n",
       "  category                          story                hostname  \\\n",
       "0        b  dWFE6j8qiln4-gM9XHXLwrtbu9G3M    www.businessweek.com   \n",
       "1        m  d9rqLdlVaeG5QeMA7Qa82YUH0FgkM  www.huffingtonpost.com   \n",
       "2        e  dUmj0nbZNQbZRjMarG4k-G60NPjyM     www.dailymail.co.uk   \n",
       "\n",
       "       timestamp  \n",
       "0  1402916284786  \n",
       "1  1398799729255  \n",
       "2  1405500950599  "
      ],
      "text/html": "<div>\n<style scoped>\n    .dataframe tbody tr th:only-of-type {\n        vertical-align: middle;\n    }\n\n    .dataframe tbody tr th {\n        vertical-align: top;\n    }\n\n    .dataframe thead th {\n        text-align: right;\n    }\n</style>\n<table border=\"1\" class=\"dataframe\">\n  <thead>\n    <tr style=\"text-align: right;\">\n      <th></th>\n      <th>id</th>\n      <th>title</th>\n      <th>url</th>\n      <th>publisher</th>\n      <th>category</th>\n      <th>story</th>\n      <th>hostname</th>\n      <th>timestamp</th>\n    </tr>\n  </thead>\n  <tbody>\n    <tr>\n      <th>0</th>\n      <td>289974</td>\n      <td>Draghi Unites Euro Bulls With Bears Watching $...</td>\n      <td>http://www.businessweek.com/news/2014-06-16/dr...</td>\n      <td>Businessweek</td>\n      <td>b</td>\n      <td>dWFE6j8qiln4-gM9XHXLwrtbu9G3M</td>\n      <td>www.businessweek.com</td>\n      <td>1402916284786</td>\n    </tr>\n    <tr>\n      <th>1</th>\n      <td>170077</td>\n      <td>A Guide To Spring Gardening, For Allergy-Suffe...</td>\n      <td>http://www.huffingtonpost.com/2014/04/26/garde...</td>\n      <td>Huffington Post</td>\n      <td>m</td>\n      <td>d9rqLdlVaeG5QeMA7Qa82YUH0FgkM</td>\n      <td>www.huffingtonpost.com</td>\n      <td>1398799729255</td>\n    </tr>\n    <tr>\n      <th>2</th>\n      <td>381569</td>\n      <td>By Odin's beard: Marvel creates a storm of con...</td>\n      <td>http://www.dailymail.co.uk/news/article-269326...</td>\n      <td>Daily Mail</td>\n      <td>e</td>\n      <td>dUmj0nbZNQbZRjMarG4k-G60NPjyM</td>\n      <td>www.dailymail.co.uk</td>\n      <td>1405500950599</td>\n    </tr>\n  </tbody>\n</table>\n</div>"
     },
     "metadata": {},
     "execution_count": 5
    }
   ],
   "source": [
    "train_df.head(3)"
   ]
  },
  {
   "cell_type": "code",
   "execution_count": 13,
   "metadata": {},
   "outputs": [],
   "source": [
    "hostname_encoder = OneHotEncoder(handle_unknown='ignore').fit(train_df.hostname.unique().reshape(-1, 1))"
   ]
  },
  {
   "cell_type": "code",
   "execution_count": 18,
   "metadata": {},
   "outputs": [
    {
     "output_type": "execute_result",
     "data": {
      "text/plain": [
       "<10672x6 sparse matrix of type '<class 'numpy.float64'>'\n",
       "\twith 10672 stored elements in Compressed Sparse Row format>"
      ]
     },
     "metadata": {},
     "execution_count": 18
    }
   ],
   "source": [
    "hostname_encoder.transform(train_df.hostname.values.reshape(-1, 1))"
   ]
  },
  {
   "cell_type": "code",
   "execution_count": 19,
   "metadata": {},
   "outputs": [],
   "source": [
    "publisher_encoder = OneHotEncoder(handle_unknown='ignore').fit(train_df.publisher.unique().reshape(-1, 1))"
   ]
  },
  {
   "cell_type": "code",
   "execution_count": 20,
   "metadata": {},
   "outputs": [
    {
     "output_type": "execute_result",
     "data": {
      "text/plain": [
       "<10672x5 sparse matrix of type '<class 'numpy.float64'>'\n",
       "\twith 10672 stored elements in Compressed Sparse Row format>"
      ]
     },
     "metadata": {},
     "execution_count": 20
    }
   ],
   "source": [
    "publisher_encoder.transform(train_df.publisher.values.reshape(-1, 1))"
   ]
  },
  {
   "cell_type": "code",
   "execution_count": 21,
   "metadata": {},
   "outputs": [],
   "source": [
    "title_vectorizer = TfidfVectorizer().fit(train_df.title)"
   ]
  },
  {
   "cell_type": "code",
   "execution_count": 22,
   "metadata": {},
   "outputs": [
    {
     "output_type": "execute_result",
     "data": {
      "text/plain": [
       "<10672x12858 sparse matrix of type '<class 'numpy.float64'>'\n",
       "\twith 106104 stored elements in Compressed Sparse Row format>"
      ]
     },
     "metadata": {},
     "execution_count": 22
    }
   ],
   "source": [
    "title_vectorizer.transform(train_df.title)"
   ]
  },
  {
   "cell_type": "code",
   "execution_count": 31,
   "metadata": {},
   "outputs": [],
   "source": [
    "def create_vectors(df: pd.DataFrame) -> csr_matrix:\n",
    "    vectors = hstack([\n",
    "        title_vectorizer.transform(df.title),\n",
    "        publisher_encoder.transform(df.publisher.values.reshape(-1, 1)),\n",
    "        hostname_encoder.transform(df.hostname.values.reshape(-1, 1))\n",
    "    ])\n",
    "    return vectors.tocsr()"
   ]
  },
  {
   "cell_type": "code",
   "execution_count": 34,
   "metadata": {},
   "outputs": [],
   "source": [
    "valid_df = pd.read_csv('data/valid.txt', sep='\\t')\n",
    "test_df = pd.read_csv('data/test.txt', sep='\\t')"
   ]
  },
  {
   "cell_type": "code",
   "execution_count": 35,
   "metadata": {},
   "outputs": [
    {
     "output_type": "stream",
     "name": "stdout",
     "text": [
      "DONE\n"
     ]
    }
   ],
   "source": [
    "save_npz('data/train.feature.txt', create_vectors(train_df))\n",
    "save_npz('data/valid.feature.txt', create_vectors(valid_df))\n",
    "save_npz('data/test.feature.txt', create_vectors(test_df))\n",
    "print('DONE')"
   ]
  },
  {
   "cell_type": "code",
   "execution_count": null,
   "metadata": {},
   "outputs": [],
   "source": []
  }
 ]
}