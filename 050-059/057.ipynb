{
 "metadata": {
  "language_info": {
   "codemirror_mode": {
    "name": "ipython",
    "version": 3
   },
   "file_extension": ".py",
   "mimetype": "text/x-python",
   "name": "python",
   "nbconvert_exporter": "python",
   "pygments_lexer": "ipython3",
   "version": "3.8.5-final"
  },
  "orig_nbformat": 2,
  "kernelspec": {
   "name": "python37064bit370pyenva920ceca4f404267af438e20406c446b",
   "display_name": "Python 3.7.0 64-bit ('3.7.0': pyenv)",
   "language": "python"
  }
 },
 "nbformat": 4,
 "nbformat_minor": 2,
 "cells": [
  {
   "cell_type": "code",
   "execution_count": 1,
   "metadata": {},
   "outputs": [],
   "source": [
    "import joblib"
   ]
  },
  {
   "cell_type": "code",
   "execution_count": 2,
   "metadata": {},
   "outputs": [],
   "source": [
    "model = joblib.load('model.pkl')"
   ]
  },
  {
   "cell_type": "code",
   "execution_count": 5,
   "metadata": {},
   "outputs": [
    {
     "output_type": "execute_result",
     "data": {
      "text/plain": [
       "array([[ 3.92545636e-02, -8.38701625e-05,  4.11113812e-02, ...,\n",
       "        -3.12244985e-01, -6.16824922e-02,  4.16607181e-01],\n",
       "       [-1.92382353e-02,  4.36872585e-04, -1.22548915e-02, ...,\n",
       "         1.35708489e-01, -5.05365440e-03, -4.36964646e-01],\n",
       "       [-7.51844651e-03, -1.28699728e-04, -9.98131195e-03, ...,\n",
       "         1.48513620e-01,  7.04115386e-02, -4.11870704e-02],\n",
       "       [-1.24978818e-02, -2.24302694e-04, -1.88751778e-02, ...,\n",
       "         2.80228768e-02, -3.67539201e-03,  6.15445346e-02]])"
      ]
     },
     "metadata": {},
     "execution_count": 5
    }
   ],
   "source": [
    "model.coef_"
   ]
  },
  {
   "cell_type": "code",
   "execution_count": 18,
   "metadata": {},
   "outputs": [],
   "source": [
    "coefs = [(f'feature_{i}', coef) for i, coef in enumerate(model.coef_.mean(0))]"
   ]
  },
  {
   "cell_type": "code",
   "execution_count": 24,
   "metadata": {},
   "outputs": [],
   "source": [
    "result = sorted(coefs, key=lambda x: x[1])"
   ]
  },
  {
   "cell_type": "code",
   "execution_count": 25,
   "metadata": {},
   "outputs": [
    {
     "output_type": "execute_result",
     "data": {
      "text/plain": [
       "[('feature_4336', 5.329070518200751e-15),\n",
       " ('feature_3793', 4.9404924595819466e-15),\n",
       " ('feature_2195', 4.6629367034256575e-15),\n",
       " ('feature_7374', 3.885780586188048e-15),\n",
       " ('feature_914', 3.524958103184872e-15),\n",
       " ('feature_7563', 3.4416913763379853e-15),\n",
       " ('feature_10984', 3.3861802251067274e-15),\n",
       " ('feature_5267', 3.2335245592207684e-15),\n",
       " ('feature_6434', 3.1363800445660672e-15),\n",
       " ('feature_9921', 3.1086244689504383e-15)]"
      ]
     },
     "metadata": {},
     "execution_count": 25
    }
   ],
   "source": [
    "# higher\n",
    "result[-10:][::-1]"
   ]
  },
  {
   "cell_type": "code",
   "execution_count": 26,
   "metadata": {},
   "outputs": [
    {
     "output_type": "execute_result",
     "data": {
      "text/plain": [
       "[('feature_11495', -6.772360450213455e-15),\n",
       " ('feature_928', -6.439293542825908e-15),\n",
       " ('feature_8139', -5.856426454897701e-15),\n",
       " ('feature_2886', -3.677613769070831e-15),\n",
       " ('feature_3885', -3.6637359812630166e-15),\n",
       " ('feature_8007', -3.3584246494910985e-15),\n",
       " ('feature_11520', -3.3029134982598407e-15),\n",
       " ('feature_12863', -3.263014858312374e-15),\n",
       " ('feature_11945', -3.011479954295737e-15),\n",
       " ('feature_7673', -2.9837243786801082e-15)]"
      ]
     },
     "metadata": {},
     "execution_count": 26
    }
   ],
   "source": [
    "# lower\n",
    "result[:10]"
   ]
  },
  {
   "cell_type": "code",
   "execution_count": null,
   "metadata": {},
   "outputs": [],
   "source": []
  }
 ]
}