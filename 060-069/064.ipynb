{
 "metadata": {
  "language_info": {
   "codemirror_mode": {
    "name": "ipython",
    "version": 3
   },
   "file_extension": ".py",
   "mimetype": "text/x-python",
   "name": "python",
   "nbconvert_exporter": "python",
   "pygments_lexer": "ipython3",
   "version": "3.8.5-final"
  },
  "orig_nbformat": 2,
  "kernelspec": {
   "name": "python37064bit370pyenva920ceca4f404267af438e20406c446b",
   "display_name": "Python 3.7.0 64-bit ('3.7.0': pyenv)",
   "language": "python"
  }
 },
 "nbformat": 4,
 "nbformat_minor": 2,
 "cells": [
  {
   "cell_type": "code",
   "execution_count": 4,
   "metadata": {},
   "outputs": [],
   "source": [
    "from typing import List\n",
    "\n",
    "import gensim"
   ]
  },
  {
   "cell_type": "code",
   "execution_count": 2,
   "metadata": {},
   "outputs": [
    {
     "output_type": "stream",
     "name": "stdout",
     "text": [
      "CPU times: user 25.3 s, sys: 3.36 s, total: 28.7 s\nWall time: 35.8 s\n"
     ]
    }
   ],
   "source": [
    "%%time\n",
    "model = gensim.models.KeyedVectors.load_word2vec_format('data/GoogleNews-vectors-negative300.bin', binary=True)"
   ]
  },
  {
   "cell_type": "code",
   "execution_count": 54,
   "metadata": {
    "tags": []
   },
   "outputs": [],
   "source": [
    "filename = 'data/questions-words.txt'\n",
    "dataset = []\n",
    "with open(filename, 'rt') as f:\n",
    "    for line in f:\n",
    "        words = line.strip().split()\n",
    "        if len(words) < 3:\n",
    "            continue\n",
    "        dataset.append(words)"
   ]
  },
  {
   "cell_type": "code",
   "execution_count": 60,
   "metadata": {
    "tags": []
   },
   "outputs": [
    {
     "output_type": "stream",
     "name": "stdout",
     "text": [
      "\"Greece\" - \"Athens\" + \"Baghdad\" = \"Iraqi\" (0.6351870894432068)\n",
      "\"Greece\" - \"Athens\" + \"Bangkok\" = \"Thailand\" (0.7137669324874878)\n",
      "\"Greece\" - \"Athens\" + \"Beijing\" = \"China\" (0.7235777974128723)\n",
      "\"Greece\" - \"Athens\" + \"Berlin\" = \"Germany\" (0.6734622120857239)\n",
      "\"Greece\" - \"Athens\" + \"Bern\" = \"Switzerland\" (0.4919748306274414)\n",
      "\"Greece\" - \"Athens\" + \"Cairo\" = \"Egypt\" (0.7527809739112854)\n",
      "\"Greece\" - \"Athens\" + \"Canberra\" = \"Australia\" (0.583732545375824)\n",
      "\"Greece\" - \"Athens\" + \"Hanoi\" = \"Viet_Nam\" (0.6276341676712036)\n",
      "\"Greece\" - \"Athens\" + \"Havana\" = \"Cuba\" (0.6460992097854614)\n",
      "\"Greece\" - \"Athens\" + \"Helsinki\" = \"Finland\" (0.6899983882904053)\n"
     ]
    }
   ],
   "source": [
    "for data in dataset[:10]:\n",
    "    result = model.most_similar(positive=[data[1], data[2]], negative=[data[0]], topn=1)\n",
    "    print(f'\"{data[1]}\" - \"{data[0]}\" + \"{data[2]}\" = \"{result[0][0]}\" ({result[0][1]})')"
   ]
  },
  {
   "cell_type": "code",
   "execution_count": null,
   "metadata": {},
   "outputs": [],
   "source": []
  }
 ]
}