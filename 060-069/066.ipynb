{
 "metadata": {
  "language_info": {
   "codemirror_mode": {
    "name": "ipython",
    "version": 3
   },
   "file_extension": ".py",
   "mimetype": "text/x-python",
   "name": "python",
   "nbconvert_exporter": "python",
   "pygments_lexer": "ipython3",
   "version": "3.8.5-final"
  },
  "orig_nbformat": 2,
  "kernelspec": {
   "name": "python37064bit370pyenva920ceca4f404267af438e20406c446b",
   "display_name": "Python 3.7.0 64-bit ('3.7.0': pyenv)",
   "language": "python"
  }
 },
 "nbformat": 4,
 "nbformat_minor": 2,
 "cells": [
  {
   "cell_type": "code",
   "execution_count": 3,
   "metadata": {},
   "outputs": [],
   "source": [
    "import gensim\n",
    "import pandas as pd"
   ]
  },
  {
   "cell_type": "code",
   "execution_count": 2,
   "metadata": {},
   "outputs": [
    {
     "output_type": "stream",
     "name": "stdout",
     "text": [
      "CPU times: user 42.3 s, sys: 5.79 s, total: 48 s\nWall time: 1min 39s\n"
     ]
    }
   ],
   "source": [
    "%%time\n",
    "model = gensim.models.KeyedVectors.load_word2vec_format('data/GoogleNews-vectors-negative300.bin', binary=True)"
   ]
  },
  {
   "cell_type": "code",
   "execution_count": 4,
   "metadata": {},
   "outputs": [
    {
     "output_type": "execute_result",
     "data": {
      "text/plain": [
       "(353, 3)"
      ]
     },
     "metadata": {},
     "execution_count": 4
    }
   ],
   "source": [
    "df = pd.read_csv('data/wordsim/combined.csv')\n",
    "df.shape"
   ]
  },
  {
   "cell_type": "code",
   "execution_count": 6,
   "metadata": {},
   "outputs": [],
   "source": [
    "similarities = []\n",
    "for w1, w2 in zip(df['Word 1'], df['Word 2']):\n",
    "    similarities.append(model.similarity(w1, w2))"
   ]
  },
  {
   "cell_type": "code",
   "execution_count": 10,
   "metadata": {},
   "outputs": [],
   "source": [
    "df['w2v'] = similarities\n",
    "df['pair'] = [f'{w1}_{w2}' for w1, w2 in zip(df['Word 1'], df['Word 2'])]"
   ]
  },
  {
   "cell_type": "code",
   "execution_count": 11,
   "metadata": {},
   "outputs": [
    {
     "output_type": "execute_result",
     "data": {
      "text/plain": [
       "           Word 1    Word 2  Human (mean)       w2v                  pair\n",
       "0            love       sex          6.77  0.263938              love_sex\n",
       "1           tiger       cat          7.35  0.517296             tiger_cat\n",
       "2           tiger     tiger         10.00  1.000000           tiger_tiger\n",
       "3            book     paper          7.46  0.363463            book_paper\n",
       "4        computer  keyboard          7.62  0.396392     computer_keyboard\n",
       "..            ...       ...           ...       ...                   ...\n",
       "348        shower     flood          6.03  0.129479          shower_flood\n",
       "349       weather  forecast          8.34  0.362721      weather_forecast\n",
       "350      disaster      area          6.25  0.145228         disaster_area\n",
       "351      governor    office          6.34  0.296636       governor_office\n",
       "352  architecture   century          3.78  0.143093  architecture_century\n",
       "\n",
       "[353 rows x 5 columns]"
      ],
      "text/html": "<div>\n<style scoped>\n    .dataframe tbody tr th:only-of-type {\n        vertical-align: middle;\n    }\n\n    .dataframe tbody tr th {\n        vertical-align: top;\n    }\n\n    .dataframe thead th {\n        text-align: right;\n    }\n</style>\n<table border=\"1\" class=\"dataframe\">\n  <thead>\n    <tr style=\"text-align: right;\">\n      <th></th>\n      <th>Word 1</th>\n      <th>Word 2</th>\n      <th>Human (mean)</th>\n      <th>w2v</th>\n      <th>pair</th>\n    </tr>\n  </thead>\n  <tbody>\n    <tr>\n      <th>0</th>\n      <td>love</td>\n      <td>sex</td>\n      <td>6.77</td>\n      <td>0.263938</td>\n      <td>love_sex</td>\n    </tr>\n    <tr>\n      <th>1</th>\n      <td>tiger</td>\n      <td>cat</td>\n      <td>7.35</td>\n      <td>0.517296</td>\n      <td>tiger_cat</td>\n    </tr>\n    <tr>\n      <th>2</th>\n      <td>tiger</td>\n      <td>tiger</td>\n      <td>10.00</td>\n      <td>1.000000</td>\n      <td>tiger_tiger</td>\n    </tr>\n    <tr>\n      <th>3</th>\n      <td>book</td>\n      <td>paper</td>\n      <td>7.46</td>\n      <td>0.363463</td>\n      <td>book_paper</td>\n    </tr>\n    <tr>\n      <th>4</th>\n      <td>computer</td>\n      <td>keyboard</td>\n      <td>7.62</td>\n      <td>0.396392</td>\n      <td>computer_keyboard</td>\n    </tr>\n    <tr>\n      <th>...</th>\n      <td>...</td>\n      <td>...</td>\n      <td>...</td>\n      <td>...</td>\n      <td>...</td>\n    </tr>\n    <tr>\n      <th>348</th>\n      <td>shower</td>\n      <td>flood</td>\n      <td>6.03</td>\n      <td>0.129479</td>\n      <td>shower_flood</td>\n    </tr>\n    <tr>\n      <th>349</th>\n      <td>weather</td>\n      <td>forecast</td>\n      <td>8.34</td>\n      <td>0.362721</td>\n      <td>weather_forecast</td>\n    </tr>\n    <tr>\n      <th>350</th>\n      <td>disaster</td>\n      <td>area</td>\n      <td>6.25</td>\n      <td>0.145228</td>\n      <td>disaster_area</td>\n    </tr>\n    <tr>\n      <th>351</th>\n      <td>governor</td>\n      <td>office</td>\n      <td>6.34</td>\n      <td>0.296636</td>\n      <td>governor_office</td>\n    </tr>\n    <tr>\n      <th>352</th>\n      <td>architecture</td>\n      <td>century</td>\n      <td>3.78</td>\n      <td>0.143093</td>\n      <td>architecture_century</td>\n    </tr>\n  </tbody>\n</table>\n<p>353 rows × 5 columns</p>\n</div>"
     },
     "metadata": {},
     "execution_count": 11
    }
   ],
   "source": [
    "df"
   ]
  },
  {
   "cell_type": "code",
   "execution_count": 46,
   "metadata": {},
   "outputs": [
    {
     "output_type": "execute_result",
     "data": {
      "text/plain": [
       "(353, 2)"
      ]
     },
     "metadata": {},
     "execution_count": 46
    }
   ],
   "source": [
    "tmp_df = df\n",
    "# tmp_df.drop(['Word 1', 'Word 2', 'pair'], inplace=True)\n",
    "tmp_df.sort_values(by='Human (mean)', ascending=False, inplace=True)\n",
    "tmp_df.reset_index(drop=True, inplace=True)\n",
    "tmp_df.reset_index(inplace=True)\n",
    "tmp_df.rename(columns={'index': 'human_rank'}, inplace=True)\n",
    "tmp_df.sort_values(by='w2v', ascending=False, inplace=True)\n",
    "tmp_df.reset_index(drop=True, inplace=True)\n",
    "tmp_df.reset_index(inplace=True)\n",
    "tmp_df.rename(columns={'index': 'w2v_rank'}, inplace=True)\n",
    "tmp_df = tmp_df[['human_rank', 'w2v_rank']]\n",
    "tmp_df.shape"
   ]
  },
  {
   "cell_type": "code",
   "execution_count": 50,
   "metadata": {},
   "outputs": [],
   "source": [
    "d = [row.human_rank - row.w2v_rank for row in tmp_df.itertuples()]\n",
    "n = tmp_df.shape[0]"
   ]
  },
  {
   "cell_type": "code",
   "execution_count": 51,
   "metadata": {},
   "outputs": [],
   "source": [
    "r = 1 - 6*sum(map(lambda d_i: d_i**2, d)) / (n*(n**2-1))"
   ]
  },
  {
   "cell_type": "code",
   "execution_count": 52,
   "metadata": {},
   "outputs": [
    {
     "output_type": "execute_result",
     "data": {
      "text/plain": [
       "0.6998555742763982"
      ]
     },
     "metadata": {},
     "execution_count": 52
    }
   ],
   "source": [
    "r"
   ]
  },
  {
   "cell_type": "code",
   "execution_count": null,
   "metadata": {},
   "outputs": [],
   "source": []
  }
 ]
}