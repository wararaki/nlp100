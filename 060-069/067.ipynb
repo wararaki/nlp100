{
 "metadata": {
  "language_info": {
   "codemirror_mode": {
    "name": "ipython",
    "version": 3
   },
   "file_extension": ".py",
   "mimetype": "text/x-python",
   "name": "python",
   "nbconvert_exporter": "python",
   "pygments_lexer": "ipython3",
   "version": "3.8.5-final"
  },
  "orig_nbformat": 2,
  "kernelspec": {
   "name": "python37064bit370pyenva920ceca4f404267af438e20406c446b",
   "display_name": "Python 3.7.0 64-bit ('3.7.0': pyenv)",
   "language": "python"
  }
 },
 "nbformat": 4,
 "nbformat_minor": 2,
 "cells": [
  {
   "cell_type": "code",
   "execution_count": 1,
   "metadata": {},
   "outputs": [],
   "source": [
    "import gensim"
   ]
  },
  {
   "cell_type": "code",
   "execution_count": 2,
   "metadata": {},
   "outputs": [
    {
     "output_type": "stream",
     "name": "stdout",
     "text": [
      "CPU times: user 43 s, sys: 5.68 s, total: 48.7 s\nWall time: 1min 27s\n"
     ]
    }
   ],
   "source": [
    "%%time\n",
    "model = gensim.models.KeyedVectors.load_word2vec_format('data/GoogleNews-vectors-negative300.bin', binary=True)"
   ]
  },
  {
   "cell_type": "code",
   "execution_count": 5,
   "metadata": {},
   "outputs": [
    {
     "output_type": "stream",
     "name": "stdout",
     "text": [
      "23\n"
     ]
    }
   ],
   "source": [
    "filename = 'data/questions-words.txt'\n",
    "countries = set()\n",
    "with open(filename, 'rt') as f:\n",
    "    for line in f:\n",
    "        words = line.strip()\n",
    "        if words.startswith(':'):\n",
    "            if len(countries) > 0:\n",
    "                break\n",
    "        else:\n",
    "            countries.add(words.split()[1])\n",
    "print(len(countries))"
   ]
  },
  {
   "cell_type": "code",
   "execution_count": 7,
   "metadata": {},
   "outputs": [
    {
     "output_type": "execute_result",
     "data": {
      "text/plain": [
       "{'Afghanistan',\n",
       " 'Australia',\n",
       " 'Canada',\n",
       " 'China',\n",
       " 'Cuba',\n",
       " 'Egypt',\n",
       " 'England',\n",
       " 'Finland',\n",
       " 'France',\n",
       " 'Germany',\n",
       " 'Greece',\n",
       " 'Iran',\n",
       " 'Iraq',\n",
       " 'Italy',\n",
       " 'Japan',\n",
       " 'Norway',\n",
       " 'Pakistan',\n",
       " 'Russia',\n",
       " 'Spain',\n",
       " 'Sweden',\n",
       " 'Switzerland',\n",
       " 'Thailand',\n",
       " 'Vietnam'}"
      ]
     },
     "metadata": {},
     "execution_count": 7
    }
   ],
   "source": [
    "countries"
   ]
  },
  {
   "cell_type": "code",
   "execution_count": 9,
   "metadata": {},
   "outputs": [],
   "source": [
    "vectors = [model.wv[country] for country in countries]"
   ]
  },
  {
   "cell_type": "code",
   "execution_count": 10,
   "metadata": {},
   "outputs": [],
   "source": [
    "from sklearn.cluster import KMeans"
   ]
  },
  {
   "cell_type": "code",
   "execution_count": 12,
   "metadata": {},
   "outputs": [],
   "source": [
    "kmeans_model = KMeans(n_clusters=5)"
   ]
  },
  {
   "cell_type": "code",
   "execution_count": 13,
   "metadata": {},
   "outputs": [
    {
     "output_type": "execute_result",
     "data": {
      "text/plain": [
       "KMeans(n_clusters=5)"
      ]
     },
     "metadata": {},
     "execution_count": 13
    }
   ],
   "source": [
    "kmeans_model.fit(vectors)"
   ]
  },
  {
   "cell_type": "code",
   "execution_count": 17,
   "metadata": {},
   "outputs": [],
   "source": [
    "import pandas as pd\n",
    "df = pd.DataFrame(\n",
    "    [[label, country] for label, country in zip(kmeans_model.labels_, countries)],\n",
    "    columns=['label', 'country']\n",
    ").sort_values('label')"
   ]
  },
  {
   "cell_type": "code",
   "execution_count": 18,
   "metadata": {},
   "outputs": [
    {
     "output_type": "execute_result",
     "data": {
      "text/plain": [
       "    label      country\n",
       "6       0         Cuba\n",
       "20      1       Greece\n",
       "19      1        China\n",
       "4       1       Russia\n",
       "5       1    Australia\n",
       "13      1      Vietnam\n",
       "21      1        Japan\n",
       "10      1     Thailand\n",
       "0       2  Switzerland\n",
       "18      2        Italy\n",
       "12      2       France\n",
       "11      2        Egypt\n",
       "8       2        Spain\n",
       "7       2       Canada\n",
       "3       2      England\n",
       "22      2      Germany\n",
       "14      3         Iraq\n",
       "15      3     Pakistan\n",
       "2       3         Iran\n",
       "1       3  Afghanistan\n",
       "16      4      Finland\n",
       "17      4       Norway\n",
       "9       4       Sweden"
      ],
      "text/html": "<div>\n<style scoped>\n    .dataframe tbody tr th:only-of-type {\n        vertical-align: middle;\n    }\n\n    .dataframe tbody tr th {\n        vertical-align: top;\n    }\n\n    .dataframe thead th {\n        text-align: right;\n    }\n</style>\n<table border=\"1\" class=\"dataframe\">\n  <thead>\n    <tr style=\"text-align: right;\">\n      <th></th>\n      <th>label</th>\n      <th>country</th>\n    </tr>\n  </thead>\n  <tbody>\n    <tr>\n      <th>6</th>\n      <td>0</td>\n      <td>Cuba</td>\n    </tr>\n    <tr>\n      <th>20</th>\n      <td>1</td>\n      <td>Greece</td>\n    </tr>\n    <tr>\n      <th>19</th>\n      <td>1</td>\n      <td>China</td>\n    </tr>\n    <tr>\n      <th>4</th>\n      <td>1</td>\n      <td>Russia</td>\n    </tr>\n    <tr>\n      <th>5</th>\n      <td>1</td>\n      <td>Australia</td>\n    </tr>\n    <tr>\n      <th>13</th>\n      <td>1</td>\n      <td>Vietnam</td>\n    </tr>\n    <tr>\n      <th>21</th>\n      <td>1</td>\n      <td>Japan</td>\n    </tr>\n    <tr>\n      <th>10</th>\n      <td>1</td>\n      <td>Thailand</td>\n    </tr>\n    <tr>\n      <th>0</th>\n      <td>2</td>\n      <td>Switzerland</td>\n    </tr>\n    <tr>\n      <th>18</th>\n      <td>2</td>\n      <td>Italy</td>\n    </tr>\n    <tr>\n      <th>12</th>\n      <td>2</td>\n      <td>France</td>\n    </tr>\n    <tr>\n      <th>11</th>\n      <td>2</td>\n      <td>Egypt</td>\n    </tr>\n    <tr>\n      <th>8</th>\n      <td>2</td>\n      <td>Spain</td>\n    </tr>\n    <tr>\n      <th>7</th>\n      <td>2</td>\n      <td>Canada</td>\n    </tr>\n    <tr>\n      <th>3</th>\n      <td>2</td>\n      <td>England</td>\n    </tr>\n    <tr>\n      <th>22</th>\n      <td>2</td>\n      <td>Germany</td>\n    </tr>\n    <tr>\n      <th>14</th>\n      <td>3</td>\n      <td>Iraq</td>\n    </tr>\n    <tr>\n      <th>15</th>\n      <td>3</td>\n      <td>Pakistan</td>\n    </tr>\n    <tr>\n      <th>2</th>\n      <td>3</td>\n      <td>Iran</td>\n    </tr>\n    <tr>\n      <th>1</th>\n      <td>3</td>\n      <td>Afghanistan</td>\n    </tr>\n    <tr>\n      <th>16</th>\n      <td>4</td>\n      <td>Finland</td>\n    </tr>\n    <tr>\n      <th>17</th>\n      <td>4</td>\n      <td>Norway</td>\n    </tr>\n    <tr>\n      <th>9</th>\n      <td>4</td>\n      <td>Sweden</td>\n    </tr>\n  </tbody>\n</table>\n</div>"
     },
     "metadata": {},
     "execution_count": 18
    }
   ],
   "source": [
    "df"
   ]
  },
  {
   "cell_type": "code",
   "execution_count": null,
   "metadata": {},
   "outputs": [],
   "source": []
  }
 ]
}