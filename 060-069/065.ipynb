{
 "metadata": {
  "language_info": {
   "codemirror_mode": {
    "name": "ipython",
    "version": 3
   },
   "file_extension": ".py",
   "mimetype": "text/x-python",
   "name": "python",
   "nbconvert_exporter": "python",
   "pygments_lexer": "ipython3",
   "version": "3.8.5-final"
  },
  "orig_nbformat": 2,
  "kernelspec": {
   "name": "python37064bit370pyenva920ceca4f404267af438e20406c446b",
   "display_name": "Python 3.7.0 64-bit ('3.7.0': pyenv)",
   "language": "python"
  }
 },
 "nbformat": 4,
 "nbformat_minor": 2,
 "cells": [
  {
   "cell_type": "code",
   "execution_count": 1,
   "metadata": {},
   "outputs": [],
   "source": [
    "from typing import List\n",
    "\n",
    "import gensim\n",
    "from tqdm import tqdm"
   ]
  },
  {
   "cell_type": "code",
   "execution_count": 2,
   "metadata": {},
   "outputs": [
    {
     "output_type": "stream",
     "name": "stdout",
     "text": [
      "CPU times: user 22.2 s, sys: 3.14 s, total: 25.3 s\nWall time: 27.9 s\n"
     ]
    }
   ],
   "source": [
    "%%time\n",
    "model = gensim.models.KeyedVectors.load_word2vec_format('data/GoogleNews-vectors-negative300.bin', binary=True)"
   ]
  },
  {
   "cell_type": "code",
   "execution_count": 3,
   "metadata": {},
   "outputs": [
    {
     "output_type": "stream",
     "name": "stdout",
     "text": [
      "dict_keys(['capital-common-countries', 'capital-world', 'currency', 'city-in-state', 'family', 'gram1-adjective-to-adverb', 'gram2-opposite', 'gram3-comparative', 'gram4-superlative', 'gram5-present-participle', 'gram6-nationality-adjective', 'gram7-past-tense', 'gram8-plural'])\n"
     ]
    }
   ],
   "source": [
    "filename = 'data/questions-words.txt'\n",
    "dataset = dict()\n",
    "data = []\n",
    "key = None\n",
    "with open(filename, 'rt') as f:\n",
    "    for line in f:\n",
    "        words = line.strip()\n",
    "        if words.startswith(':'):\n",
    "            if len(data) > 0 and key is not None:\n",
    "                dataset[key] = data\n",
    "                data = []\n",
    "            key = words.split()[1]\n",
    "        else:\n",
    "            data.append(words.split())\n",
    "print(dataset.keys())"
   ]
  },
  {
   "cell_type": "code",
   "execution_count": 4,
   "metadata": {},
   "outputs": [
    {
     "output_type": "stream",
     "name": "stderr",
     "text": [
      "100%|██████████| 8/8 [59:49<00:00, 448.66s/it]semantic accuracy: 0.7454360020397757\n",
      "\n"
     ]
    }
   ],
   "source": [
    "target_keys = [key for key in dataset.keys() if key.startswith('gram')]\n",
    "scores = []\n",
    "for key in tqdm(target_keys):\n",
    "    for data in dataset[key]:\n",
    "        result = model.most_similar(positive=[data[1], data[2]], negative=[data[0]], topn=1)\n",
    "        pred_word = result[0][0]\n",
    "        scores.append(pred_word == data[3])\n",
    "accuracy_score = len(list(filter(lambda x: x, scores))) / len(scores)\n",
    "print(f'semantic accuracy: {accuracy_score}')"
   ]
  },
  {
   "cell_type": "code",
   "execution_count": null,
   "metadata": {},
   "outputs": [],
   "source": [
    "target_keys = [key for key in dataset.keys() if not key.startswith('gram')]\n",
    "scores = []\n",
    "for key in tqdm(target_keys):\n",
    "    for data in dataset[key]:\n",
    "        result = model.most_similar(positive=[data[1], data[2]], negative=[data[0]], topn=1)\n",
    "        pred_word = result[0][0]\n",
    "        scores.append(pred_word == data[3])\n",
    "accuracy_score = len(list(filter(lambda x: x, scores))) / len(scores)\n",
    "print(f'syntatic accuracy: {accuracy_score}')"
   ]
  },
  {
   "cell_type": "code",
   "execution_count": null,
   "metadata": {},
   "outputs": [],
   "source": []
  }
 ]
}