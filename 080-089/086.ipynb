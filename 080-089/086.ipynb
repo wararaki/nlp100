{
 "metadata": {
  "language_info": {
   "codemirror_mode": {
    "name": "ipython",
    "version": 3
   },
   "file_extension": ".py",
   "mimetype": "text/x-python",
   "name": "python",
   "nbconvert_exporter": "python",
   "pygments_lexer": "ipython3",
   "version": "3.8.5-final"
  },
  "orig_nbformat": 2,
  "kernelspec": {
   "name": "python3",
   "display_name": "Python 3",
   "language": "python"
  }
 },
 "nbformat": 4,
 "nbformat_minor": 2,
 "cells": [
  {
   "cell_type": "code",
   "execution_count": 1,
   "metadata": {},
   "outputs": [],
   "source": [
    "from typing import List, Tuple\n",
    "\n",
    "import pandas as pd\n",
    "import torch\n",
    "import numpy as np\n",
    "\n",
    "from module import Word2IdConverter, sentence2words"
   ]
  },
  {
   "cell_type": "code",
   "execution_count": 2,
   "metadata": {},
   "outputs": [
    {
     "output_type": "execute_result",
     "data": {
      "text/plain": [
       "(10672, 8)"
      ]
     },
     "metadata": {},
     "execution_count": 2
    }
   ],
   "source": [
    "train_df = pd.read_csv('data/train.txt', sep='\\t')\n",
    "train_df.shape"
   ]
  },
  {
   "cell_type": "code",
   "execution_count": 3,
   "metadata": {},
   "outputs": [],
   "source": [
    "converter = Word2IdConverter('data/mapping.csv')\n",
    "n_words = converter.get_n_words()"
   ]
  },
  {
   "cell_type": "code",
   "execution_count": 4,
   "metadata": {},
   "outputs": [
    {
     "output_type": "execute_result",
     "data": {
      "text/plain": [
       "10672"
      ]
     },
     "metadata": {},
     "execution_count": 4
    }
   ],
   "source": [
    "results = map(sentence2words, train_df.title)\n",
    "results = map(converter.word2id, results)\n",
    "X = list(map(lambda x: torch.Tensor(x).long(), results))\n",
    "len(X)"
   ]
  },
  {
   "cell_type": "code",
   "execution_count": 15,
   "metadata": {},
   "outputs": [],
   "source": [
    "class CNN(torch.nn.Module):\n",
    "    def __init__(self,\n",
    "                 vocab_size: int,\n",
    "                 input_size: int,\n",
    "                 hidden_size: int,\n",
    "                 output_size: int,\n",
    "                 kernel_size: int):\n",
    "        super(CNN, self).__init__()\n",
    "        self._hidden_size = hidden_size\n",
    "        self._kernel_size = kernel_size\n",
    "        self.embedding = torch.nn.Embedding(vocab_size, input_size)\n",
    "        self.conv = torch.nn.Conv2d(\n",
    "            in_channels=1,\n",
    "            out_channels=hidden_size,\n",
    "            kernel_size=kernel_size,\n",
    "            stride=1,\n",
    "            padding=1,\n",
    "            groups=1,\n",
    "            bias=True\n",
    "        )\n",
    "        #self.linear = torch.nn.Linear(hidden_size*kernel_size*kernel_size, output_size)\n",
    "        self.linear = torch.nn.Linear(hidden_size*6*100, output_size)\n",
    "\n",
    "    def forward(self, x: torch.Tensor) -> torch.Tensor:\n",
    "        print(f'1: {x.shape}')\n",
    "        x = self.embedding(x)\n",
    "        print(f'2: {x.shape}')\n",
    "        x = x.unsqueeze(1)\n",
    "        print(f'3: {x.shape}')\n",
    "        x = self.conv(x)\n",
    "        print(f'4: {x.shape}')\n",
    "        x = torch.max_pool2d(x, kernel_size=(self._kernel_size, self._kernel_size))\n",
    "        print(f'5: {x.shape}')\n",
    "        #x = x.view(-1, self._hidden_size*self._kernel_size*self._kernel_size)\n",
    "        x = x.view(-1, self._hidden_size*6*100)\n",
    "        print(f'6: {x.shape}')\n",
    "        x = self.linear(x)\n",
    "        print(f'7: {x.shape}')\n",
    "        return torch.log_softmax(x, dim=1)"
   ]
  },
  {
   "cell_type": "code",
   "execution_count": 16,
   "metadata": {},
   "outputs": [],
   "source": [
    "dw = 300\n",
    "dh = 50\n",
    "n_class = 4\n",
    "kernel_size = 3\n",
    "cnn = CNN(vocab_size=n_words, input_size=dw, hidden_size=dh, output_size=n_class, kernel_size=kernel_size)"
   ]
  },
  {
   "cell_type": "code",
   "execution_count": 17,
   "metadata": {},
   "outputs": [
    {
     "output_type": "stream",
     "name": "stdout",
     "text": [
      "torch.Size([100, 18])\n",
      "1: torch.Size([100, 18])\n",
      "2: torch.Size([100, 18, 300])\n",
      "3: torch.Size([100, 1, 18, 300])\n",
      "4: torch.Size([100, 50, 18, 300])\n",
      "5: torch.Size([100, 50, 6, 100])\n",
      "6: torch.Size([100, 30000])\n",
      "7: torch.Size([100, 4])\n"
     ]
    },
    {
     "output_type": "execute_result",
     "data": {
      "text/plain": [
       "torch.Size([100, 4])"
      ]
     },
     "metadata": {},
     "execution_count": 17
    }
   ],
   "source": [
    "n_train_size = 100\n",
    "X_train = X[:n_train_size]\n",
    "X_pad = torch.nn.utils.rnn.pad_sequence(X_train, batch_first=True)\n",
    "\n",
    "print(X_pad.shape)\n",
    "y_pred = cnn(X_pad)\n",
    "y_pred.shape"
   ]
  },
  {
   "cell_type": "code",
   "execution_count": 18,
   "metadata": {},
   "outputs": [
    {
     "output_type": "execute_result",
     "data": {
      "text/plain": [
       "tensor([2, 1, 1, 3, 3, 2, 3, 2, 3, 2, 1, 3, 2, 2, 3, 3, 3, 3, 3, 3, 3, 2, 1, 3,\n",
       "        2, 2, 3, 3, 3, 3, 3, 3, 3, 3, 2, 3, 2, 2, 3, 3, 3, 3, 3, 3, 2, 2, 2, 2,\n",
       "        2, 2, 2, 3, 3, 2, 1, 3, 3, 3, 3, 3, 2, 3, 1, 2, 2, 2, 3, 2, 3, 3, 3, 2,\n",
       "        2, 2, 2, 3, 2, 2, 2, 3, 3, 3, 2, 2, 2, 2, 3, 2, 2, 2, 3, 3, 3, 2, 3, 3,\n",
       "        3, 3, 2, 2])"
      ]
     },
     "metadata": {},
     "execution_count": 18
    }
   ],
   "source": [
    "y_pred.argmax(dim=1)"
   ]
  },
  {
   "cell_type": "code",
   "execution_count": null,
   "metadata": {},
   "outputs": [],
   "source": []
  }
 ]
}