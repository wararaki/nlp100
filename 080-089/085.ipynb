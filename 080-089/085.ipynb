{
 "metadata": {
  "language_info": {
   "codemirror_mode": {
    "name": "ipython",
    "version": 3
   },
   "file_extension": ".py",
   "mimetype": "text/x-python",
   "name": "python",
   "nbconvert_exporter": "python",
   "pygments_lexer": "ipython3",
   "version": "3.8.6-final"
  },
  "orig_nbformat": 2,
  "kernelspec": {
   "name": "python3",
   "display_name": "Python 3.8.6 64-bit ('.pyenv': pyenv)",
   "metadata": {
    "interpreter": {
     "hash": "e215878dfcfd0ef8bbb92b360f853e8f0796a48f9e143eedb671ef2205a4259f"
    }
   }
  }
 },
 "nbformat": 4,
 "nbformat_minor": 2,
 "cells": [
  {
   "cell_type": "code",
   "execution_count": 1,
   "metadata": {},
   "outputs": [],
   "source": [
    "from typing import List, Tuple\n",
    "\n",
    "import gensim\n",
    "import pandas as pd\n",
    "import torch\n",
    "import numpy as np\n",
    "\n",
    "from module import Word2VecIdConverter, sentence2words"
   ]
  },
  {
   "cell_type": "code",
   "execution_count": 3,
   "metadata": {},
   "outputs": [
    {
     "output_type": "execute_result",
     "data": {
      "text/plain": [
       "True"
      ]
     },
     "metadata": {},
     "execution_count": 3
    }
   ],
   "source": [
    "torch.cuda.is_available()"
   ]
  },
  {
   "cell_type": "code",
   "execution_count": 4,
   "metadata": {},
   "outputs": [
    {
     "output_type": "execute_result",
     "data": {
      "text/plain": [
       "(10672, 8)"
      ]
     },
     "metadata": {},
     "execution_count": 4
    }
   ],
   "source": [
    "train_df = pd.read_csv('data/train.txt', sep='\\t')\n",
    "train_df.shape"
   ]
  },
  {
   "cell_type": "code",
   "execution_count": 5,
   "metadata": {},
   "outputs": [],
   "source": [
    "converter = Word2VecIdConverter('data/mapping.csv', 'data/GoogleNews-vectors-negative300.bin')\n",
    "n_words = converter.get_n_words()"
   ]
  },
  {
   "cell_type": "code",
   "execution_count": 2,
   "metadata": {},
   "outputs": [
    {
     "output_type": "execute_result",
     "data": {
      "text/plain": [
       "(3000000, 300)"
      ]
     },
     "metadata": {},
     "execution_count": 2
    }
   ],
   "source": [
    "w2v = gensim.models.KeyedVectors.load_word2vec_format('./data/GoogleNews-vectors-negative300.bin', binary=True)\n",
    "weights = w2v.wv.syn0\n",
    "weights.shape"
   ]
  },
  {
   "cell_type": "code",
   "execution_count": 6,
   "metadata": {},
   "outputs": [
    {
     "output_type": "execute_result",
     "data": {
      "text/plain": [
       "10672"
      ]
     },
     "metadata": {},
     "execution_count": 6
    }
   ],
   "source": [
    "results = map(sentence2words, train_df.title)\n",
    "results = map(converter.word2id, results)\n",
    "X = list(map(lambda x: torch.Tensor(x).long(), results))\n",
    "len(X)"
   ]
  },
  {
   "cell_type": "code",
   "execution_count": 7,
   "metadata": {},
   "outputs": [],
   "source": [
    "y = torch.Tensor(train_df.category.map({'b': 0, 't': 1, 'e': 2, 'm': 3}).to_list()).long()"
   ]
  },
  {
   "cell_type": "code",
   "execution_count": 25,
   "metadata": {},
   "outputs": [],
   "source": [
    "class RNN(torch.nn.Module):\n",
    "    def __init__(self, vocab_size: int, input_size: int, hidden_size: int, output_size: int, weights: np.ndarray):\n",
    "        super(RNN, self).__init__()\n",
    "        self.hidden_size = hidden_size\n",
    "        self.embedding = torch.nn.Embedding(vocab_size, input_size)\n",
    "        self.embedding.weight = torch.nn.Parameter(torch.from_numpy(weights))\n",
    "        self.embedding.weight.requires_grad = False\n",
    "        self.rnn = torch.nn.RNN(input_size, hidden_size, bidirectional=True)\n",
    "        self.linear = torch.nn.Linear(hidden_size, output_size)\n",
    "\n",
    "    def forward(self, x: torch.Tensor, hidden: torch.Tensor) -> torch.Tensor:\n",
    "        x = self.embedding(x)\n",
    "        x, _ = self.rnn(x, hidden)\n",
    "        x = self.linear(x[:, -1])\n",
    "        return torch.log_softmax(x, dim=1)\n",
    "\n",
    "    def initHidden(self):\n",
    "        return torch.zeros(1, self.hidden_size)"
   ]
  },
  {
   "cell_type": "code",
   "execution_count": 21,
   "metadata": {},
   "outputs": [],
   "source": [
    "dw = 300\n",
    "dh = 50\n",
    "n_class = 4\n",
    "rnn = RNN(vocab_size=n_words, input_size=dw, hidden_size=dh, output_size=n_class, weights=weights).cuda()"
   ]
  },
  {
   "cell_type": "code",
   "execution_count": 22,
   "metadata": {},
   "outputs": [],
   "source": [
    "n_train_size = 10000\n",
    "X_train = X[:n_train_size]\n",
    "y_train = y[:n_train_size]\n",
    "#X_train = X\n",
    "#y_train = y"
   ]
  },
  {
   "cell_type": "code",
   "execution_count": 23,
   "metadata": {},
   "outputs": [],
   "source": [
    "criterion = torch.nn.CrossEntropyLoss()\n",
    "optimizer = torch.optim.SGD(rnn.parameters(), lr=0.01)"
   ]
  },
  {
   "cell_type": "code",
   "execution_count": 26,
   "metadata": {},
   "outputs": [
    {
     "output_type": "stream",
     "name": "stdout",
     "text": [
      "epoch 1: 1.2523601055145264\n",
      "epoch 2: 1.3445429801940918\n",
      "epoch 3: 1.3777530193328857\n",
      "epoch 4: 1.5240954160690308\n",
      "epoch 5: 1.6282480955123901\n",
      "epoch 6: 2.114105463027954\n",
      "epoch 7: 1.8348824977874756\n",
      "epoch 8: 1.5840672254562378\n",
      "epoch 9: 1.745245337486267\n",
      "epoch 10: 1.5938433408737183\n",
      "DONE\n"
     ]
    }
   ],
   "source": [
    "n_epochs = 10\n",
    "batch_size = 256\n",
    "for epoch in range(1, n_epochs+1):\n",
    "    optimizer.step()\n",
    "    for i in range(0, len(X_train), batch_size):\n",
    "        X_pad = torch.nn.utils.rnn.pad_sequence(X_train[i:i+batch_size], batch_first=True).cuda()\n",
    "        h_0 = torch.zeros(2*X_pad.shape[1]*dh).reshape(2, X_pad.shape[1], dh).cuda()\n",
    "\n",
    "        y_pred = rnn(X_pad, h_0)\n",
    "        loss = criterion(y_pred, y_train[i:i+batch_size].cuda())\n",
    "        loss.backward()\n",
    "        optimizer.step()\n",
    "    print(f'epoch {epoch}: {loss.item()}')\n",
    "print('DONE')"
   ]
  },
  {
   "cell_type": "code",
   "execution_count": 27,
   "metadata": {},
   "outputs": [
    {
     "output_type": "execute_result",
     "data": {
      "text/plain": [
       "tensor([0, 2, 0, 0, 0, 0, 0, 0, 0, 0, 0, 0, 0, 0, 0, 0], device='cuda:0')"
      ]
     },
     "metadata": {},
     "execution_count": 27
    }
   ],
   "source": [
    "y_pred.argmax(dim=1)"
   ]
  },
  {
   "cell_type": "code",
   "execution_count": null,
   "metadata": {},
   "outputs": [],
   "source": []
  }
 ]
}